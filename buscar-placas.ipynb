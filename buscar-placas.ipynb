{
 "cells": [
  {
   "cell_type": "markdown",
   "metadata": {},
   "source": [
    "## Atualização Cadastral - Veículos"
   ]
  },
  {
   "cell_type": "markdown",
   "metadata": {},
   "source": [
    "Este notebook realiza um web scraping no site placafipe.com ou keplaca.com para extrair informações do veículo a partir da placa. As informações incluem: Marca, Modelo, Importado, Ano, Ano Modelo, Cor, Cilindrada, Combustível, Motor, Passageiros, UF, Município, Segmento, FIPE. Após isso, as informações são atualizadas em uma tabela desejada.\n",
    "Caso seja usado em projetos reias é sugerido que troque o web scraping por a API: apiplacas.com.br."
   ]
  },
  {
   "cell_type": "code",
   "execution_count": null,
   "metadata": {},
   "outputs": [],
   "source": [
    "# importação dos pacotes\n",
    "import pandas as pd\n",
    "import requests\n",
    "from bs4 import BeautifulSoup\n",
    "\n",
    "# definição do cabeçalho HTTP\n",
    "headers = {\n",
    "    'User-Agent': 'Mozilla/5.0 (Windows NT 10.0; Win64; x64) AppleWebKit/537.36 (KHTML, like Gecko) Chrome/125.0.0.0 Safari/537.36'\n",
    "}\n"
   ]
  },
  {
   "cell_type": "code",
   "execution_count": null,
   "metadata": {},
   "outputs": [],
   "source": [
    "# Converter listas para dicionairos usanod o separador : \n",
    "def lista_para_dicionario(lista):\n",
    "    dicionario = {}\n",
    "    for item in lista:\n",
    "        if ':' in item:\n",
    "            chave, valor = item.split(':', 1) \n",
    "            dicionario[chave.strip()] = valor.strip() \n",
    "    return dicionario\n",
    "\n",
    "def buscar_veiculo(veiculo):\n",
    "    url = f\"https://placafipe.com/placa/{veiculo}\" # site onde será realizado o web scraping \n",
    "    # url =  f\"https://www.keplaca.com/chassi/{veiculo}\"também pode ser buscado por chassi sem grandes alterações\n",
    "    r = requests.get(url, headers=headers)\n",
    "    if r != 200: # site alternativo\n",
    "        url = f\"https://www.keplaca.com/placa?placa-fipe={veiculo}\"\n",
    "        r = requests.get(url, headers=headers)\n",
    "    print(r.status_code)\n",
    "\n",
    "    soup = BeautifulSoup(r.text, 'lxml')\n",
    "   # Filtro das tabelas de interesse: informações do veículo e valor da FIPE.\n",
    "    tables_details = soup.find_all(\"table\", class_='fipeTablePriceDetail')[0] \n",
    "    tables_fipe = soup.find_all(\"table\", class_='fipe-mobile')[0]\n",
    "\n",
    "    table1 = tables_details.find_all('tr')\n",
    "    tr1 = []  \n",
    "    for i in table1:\n",
    "        a = i.text.strip()\n",
    "        tr1.append(a)\n",
    "    tr1 = lista_para_dicionario(tr1)\n",
    "    tr1.pop('Chassi')\n",
    "    table2 = tables_fipe.find_all('tr')\n",
    "    tr2 = []  \n",
    "    for i in table2:\n",
    "        a = i.text.strip()\n",
    "        tr2.append(a)\n",
    "    tr2 = lista_para_dicionario(tr2)\n",
    "    tr1['Fipe'] = tr2['Valor']\n",
    "    return tr1, tr2  # retornando informações desejadas no dicionário tr1: Marca,Modelo,Importado,Ano,Ano Modelo,Cor,Cilindrada,Combustível,Motor,Passageiros,UF,Município,Segmento,Fipe \n",
    "\n",
    "def preencher_dados(dataset, placa):\n",
    "    indice = dataset.query(f\"Placa == '{placa}'\").index[0]\n",
    "    line_copy = dataset.iloc[indice].copy()\n",
    "    infos, fipe = buscar_veiculo(placa)\n",
    "    line_copy.update(pd.Series(infos))\n",
    "    dataset.iloc[indice] = line_copy"
   ]
  },
  {
   "cell_type": "code",
   "execution_count": null,
   "metadata": {},
   "outputs": [],
   "source": [
    "data = pd.read_csv('dataset.csv').astype(object)"
   ]
  },
  {
   "cell_type": "code",
   "execution_count": null,
   "metadata": {},
   "outputs": [],
   "source": [
    "data"
   ]
  },
  {
   "cell_type": "code",
   "execution_count": null,
   "metadata": {},
   "outputs": [],
   "source": [
    "for i in data['Placa']:\n",
    "    preencher_dados(data, i)\n",
    "\n",
    "data"
   ]
  }
 ],
 "metadata": {
  "kernelspec": {
   "display_name": "Python 3",
   "language": "python",
   "name": "python3"
  },
  "language_info": {
   "codemirror_mode": {
    "name": "ipython",
    "version": 3
   },
   "file_extension": ".py",
   "mimetype": "text/x-python",
   "name": "python",
   "nbconvert_exporter": "python",
   "pygments_lexer": "ipython3",
   "version": "3.11.4"
  }
 },
 "nbformat": 4,
 "nbformat_minor": 2
}
